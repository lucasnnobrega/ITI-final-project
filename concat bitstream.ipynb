{
 "cells": [
  {
   "cell_type": "code",
   "execution_count": 7,
   "metadata": {},
   "outputs": [],
   "source": [
    "%%bash\n",
    "echo \"Teste de escrita em um arquivo de texto hehehehe\" >> temp0.txt\n",
    "echo \"Teste de escrita em um arquivo de texto hehehehe\" >> temp1.txt\n",
    "echo \"Teste de escrita em um arquivo de texto hehehehe\" >> temp2.txt\n",
    "echo \"Teste de escrita em um arquivo de texto hehehehe\" >> temp3.txt\n",
    "echo \"Teste de escrita em um arquivo de texto hehehehe\" >> temp4.txt"
   ]
  },
  {
   "cell_type": "code",
   "execution_count": 8,
   "metadata": {},
   "outputs": [
    {
     "name": "stdout",
     "output_type": "stream",
     "text": [
      " \u001b[0m\u001b[34;42m1\u001b[0m/                         \u001b[01;32mStudy.ipynb\u001b[0m*\r\n",
      " \u001b[01;32m1.pgm\u001b[0m*                     \u001b[01;32mtemp0.txt\u001b[0m*\r\n",
      " \u001b[01;32mcompressor.py\u001b[0m*             \u001b[01;32mtemp1.txt\u001b[0m*\r\n",
      "\u001b[01;32m'concat bitstream.ipynb'\u001b[0m*   \u001b[01;32mtemp2.txt\u001b[0m*\r\n",
      " \u001b[01;32mconstantes.py\u001b[0m*             \u001b[01;32mtemp3.txt\u001b[0m*\r\n",
      " \u001b[01;32mdescompressor.py\u001b[0m*          \u001b[01;32mtemp4.txt\u001b[0m*\r\n",
      "\u001b[01;32m'Final Project.ipynb'\u001b[0m*      \u001b[01;32mTemplate.ipynb\u001b[0m*\r\n",
      " \u001b[01;32mmain2.py\u001b[0m*                  \u001b[01;32mtemp.txt\u001b[0m*\r\n",
      " \u001b[01;32mmay-7-update.ipynb\u001b[0m*        \u001b[01;32mUntitled1.ipynb\u001b[0m*\r\n",
      " \u001b[01;32mmonitor2.py\u001b[0m*               \u001b[01;32mUntitled.ipynb\u001b[0m*\r\n",
      " \u001b[34;42morl_faces\u001b[0m/                 \u001b[01;32mUntitled.py\u001b[0m*\r\n",
      " \u001b[01;32mProjeto2019.2.pdf\u001b[0m*        \u001b[01;32m'WhatsApp Image 2020-03-28 at 09.43.26.jpeg'\u001b[0m*\r\n",
      " \u001b[34;42m__pycache__\u001b[0m/\r\n"
     ]
    }
   ],
   "source": [
    "%ls"
   ]
  },
  {
   "cell_type": "code",
   "execution_count": 11,
   "metadata": {},
   "outputs": [],
   "source": [
    "with open(\"temp0.txt\", \"rb\") as file:\n",
    "    bitstream = file.read()"
   ]
  },
  {
   "cell_type": "code",
   "execution_count": 12,
   "metadata": {},
   "outputs": [
    {
     "data": {
      "text/plain": [
       "b'Teste de escrita em um arquivo de texto hehehehe\\n'"
      ]
     },
     "execution_count": 12,
     "metadata": {},
     "output_type": "execute_result"
    }
   ],
   "source": [
    "bitstream"
   ]
  },
  {
   "cell_type": "code",
   "execution_count": 13,
   "metadata": {},
   "outputs": [],
   "source": [
    "with open(\"temp1.txt\", \"rb\") as file:\n",
    "    bitstream2 = file.read()"
   ]
  },
  {
   "cell_type": "code",
   "execution_count": 14,
   "metadata": {},
   "outputs": [
    {
     "data": {
      "text/plain": [
       "b'Teste de escrita em um arquivo de texto hehehehe\\n'"
      ]
     },
     "execution_count": 14,
     "metadata": {},
     "output_type": "execute_result"
    }
   ],
   "source": [
    "bitstream"
   ]
  },
  {
   "cell_type": "code",
   "execution_count": 15,
   "metadata": {},
   "outputs": [
    {
     "data": {
      "text/plain": [
       "b'Teste de escrita em um arquivo de texto hehehehe\\n'"
      ]
     },
     "execution_count": 15,
     "metadata": {},
     "output_type": "execute_result"
    }
   ],
   "source": [
    "bitstream2"
   ]
  },
  {
   "cell_type": "code",
   "execution_count": 19,
   "metadata": {},
   "outputs": [
    {
     "ename": "TypeError",
     "evalue": "sequence item 0: expected a bytes-like object, int found",
     "output_type": "error",
     "traceback": [
      "\u001b[0;31m---------------------------------------------------------------------------\u001b[0m",
      "\u001b[0;31mTypeError\u001b[0m                                 Traceback (most recent call last)",
      "\u001b[0;32m<ipython-input-19-bf13bd69e822>\u001b[0m in \u001b[0;36m<module>\u001b[0;34m\u001b[0m\n\u001b[0;32m----> 1\u001b[0;31m \u001b[0mbitstream\u001b[0m\u001b[0;34m.\u001b[0m\u001b[0mjoin\u001b[0m\u001b[0;34m(\u001b[0m\u001b[0mbitstream2\u001b[0m\u001b[0;34m)\u001b[0m\u001b[0;34m\u001b[0m\u001b[0;34m\u001b[0m\u001b[0m\n\u001b[0m",
      "\u001b[0;31mTypeError\u001b[0m: sequence item 0: expected a bytes-like object, int found"
     ]
    }
   ],
   "source": []
  },
  {
   "cell_type": "code",
   "execution_count": null,
   "metadata": {},
   "outputs": [],
   "source": []
  }
 ],
 "metadata": {
  "kernelspec": {
   "display_name": "Python 3",
   "language": "python",
   "name": "python3"
  },
  "language_info": {
   "codemirror_mode": {
    "name": "ipython",
    "version": 3
   },
   "file_extension": ".py",
   "mimetype": "text/x-python",
   "name": "python",
   "nbconvert_exporter": "python",
   "pygments_lexer": "ipython3",
   "version": "3.6.9"
  }
 },
 "nbformat": 4,
 "nbformat_minor": 2
}
