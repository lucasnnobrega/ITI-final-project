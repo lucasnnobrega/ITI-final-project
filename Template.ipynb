{
 "cells": [
  {
   "cell_type": "markdown",
   "metadata": {},
   "source": [
    "# This template was made by Lucas NN"
   ]
  },
  {
   "cell_type": "code",
   "execution_count": 10,
   "metadata": {},
   "outputs": [
    {
     "data": {
      "text/html": [
       "<style>.container { width:90% !important; }</style>"
      ],
      "text/plain": [
       "<IPython.core.display.HTML object>"
      ]
     },
     "metadata": {},
     "output_type": "display_data"
    }
   ],
   "source": [
    "# Exibition for full screen displays\n",
    "\n",
    "from IPython.core.display import display, HTML\n",
    "display(HTML(\"<style>.container { width:90% !important; }</style>\"))"
   ]
  },
  {
   "cell_type": "markdown",
   "metadata": {},
   "source": [
    "# Import this notebook\n",
    "\n",
    "```python\n",
    "import import_ipynb\n",
    "from Template import *\n",
    "```\n",
    "\n",
    "# Change max columns and rows display\n",
    "\n",
    "```python\n",
    "pd.set_option('display.max_rows', 111)\n",
    "pd.set_option('display.max_columns',111)\n",
    "```\n",
    "\n",
    "# Imports for data science\n",
    "\n",
    "```python\n",
    "import pandas as pd \n",
    "import matplotlib.pyplot as plt\n",
    "%matplotlib notebook\n",
    "```\n",
    "\n",
    "# Make plots bigger again\n",
    "```python\n",
    "import matplotlib.pyplot as plt\n",
    "plt.rcParams['figure.figsize'] = [10, 5]\n",
    "```\n",
    "\n",
    "# Iframe for PDFs\n",
    "\n",
    "```python\n",
    "from IPython.display import IFrame\n",
    "IFrame(\"./Projeto2019.2.pdf\", width=1000, height=900)\n",
    "```\n",
    "\n",
    "# How to use PDB\n",
    "```python\n",
    "import pdb\n",
    "pdb.set_trace()\n",
    "```\n",
    "# How to use variable that have same name as reserved by PDB\n",
    "```python\n",
    "pdb >> ! statement\n",
    "```"
   ]
  },
  {
   "cell_type": "code",
   "execution_count": null,
   "metadata": {},
   "outputs": [],
   "source": []
  }
 ],
 "metadata": {
  "kernelspec": {
   "display_name": "Python 3",
   "language": "python",
   "name": "python3"
  },
  "language_info": {
   "codemirror_mode": {
    "name": "ipython",
    "version": 3
   },
   "file_extension": ".py",
   "mimetype": "text/x-python",
   "name": "python",
   "nbconvert_exporter": "python",
   "pygments_lexer": "ipython3",
   "version": "3.6.9"
  }
 },
 "nbformat": 4,
 "nbformat_minor": 2
}
