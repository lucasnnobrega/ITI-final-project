{
 "cells": [
  {
   "cell_type": "code",
   "execution_count": null,
   "metadata": {},
   "outputs": [],
   "source": [
    "def compress(uncompressed, k=9):\n",
    "\n",
    "    if k < 9:\n",
    "        print(\"K Inválido\")\n",
    "        sys.exit()\n",
    "\n",
    "    # Tamanho inicial do dicionario\n",
    "    dict_size = 256\n",
    "    # Tamanho maximo do dicionario, com base no parametro K\n",
    "    dict_max_lenght = int(math.pow(2, k))\n",
    "    # Construindo o dicionario {\"simbolo\": index}\n",
    "    dictionary = {chr(i): i for i in range(dict_size)}\n",
    "\n",
    "    w = \"\"\n",
    "    result = []\n",
    "\n",
    "    for c in uncompressed:\n",
    "        # Adicione um novo caractere a w\n",
    "        new_string = w + chr(c)\n",
    "        # Se new_string ja esta no dicionario, entao aumente o tamanho de new_string\n",
    "        if new_string in dictionary:\n",
    "            # colocando o valor em w para aumentar a quantidade de simbolos\n",
    "            w = new_string\n",
    "        # Se nao tiver, precisa adicionar pois esse simbolo sera usado\n",
    "        else:\n",
    "            # Adicione no final do result o valor de w para formar o arquivo final\n",
    "            result.append(dictionary[w])\n",
    "\n",
    "            # Adicionar a new_string ao dicionario, com valor = dict_size\n",
    "            dictionary[new_string] = dict_size\n",
    "            # Incrementar o valor do dicionario para que o prox a ser inserido tenha valor diferente\n",
    "            dict_size += 1\n",
    "\n",
    "            # Converter o valor encontrado para char\n",
    "            w = chr(c)\n",
    "\n",
    "            # Resetando a Janela deslizante, que eh equivalente ao comprimento do dicionario(2**K)\n",
    "            if len(dictionary) == dict_max_lenght:\n",
    "                # Reseta o dicionario\n",
    "                dict_size = 256\n",
    "                # se w estiver com algo, entao adicione no dicionario\n",
    "                if w:\n",
    "                    result.append(dictionary[w])\n",
    "                w = \"\"\n",
    "                # Limpe o dicionario\n",
    "                dictionary.clear()\n",
    "                # Reconstruindo o dicionario com as entradas padroes\n",
    "                dictionary = {chr(i): i for i in range(dict_size)}\n",
    "\n",
    "    # Verificando se nao restou nada no w\n",
    "    if w:\n",
    "        result.append(dictionary[w])\n",
    "\n",
    "    return result, dict_max_lenght, uncompressed"
   ]
  }
 ],
 "metadata": {
  "kernelspec": {
   "display_name": "Python 3",
   "language": "python",
   "name": "python3"
  },
  "language_info": {
   "codemirror_mode": {
    "name": "ipython",
    "version": 3
   },
   "file_extension": ".py",
   "mimetype": "text/x-python",
   "name": "python",
   "nbconvert_exporter": "python",
   "pygments_lexer": "ipython3",
   "version": "3.6.9"
  }
 },
 "nbformat": 4,
 "nbformat_minor": 2
}
